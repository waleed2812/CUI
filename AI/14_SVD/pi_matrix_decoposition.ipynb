{
 "cells": [
  {
   "cell_type": "markdown",
   "metadata": {},
   "source": [
    "# Example with random matrix"
   ]
  },
  {
   "cell_type": "code",
   "execution_count": 13,
   "metadata": {},
   "outputs": [],
   "source": [
    "import numpy as np\n",
    "from numpy.linalg import svd\n",
    "import matplotlib.pyplot as plt\n",
    "from matplotlib.pyplot import imshow"
   ]
  },
  {
   "cell_type": "code",
   "execution_count": 14,
   "metadata": {},
   "outputs": [],
   "source": [
    "vmin = 0\n",
    "vmax = 1\n",
    "image_bias = 1 # sometimes 1\n",
    "def plot_svd(A):\n",
    "    n = len(A)\n",
    "    U, S, V = svd(A)\n",
    "\n",
    "    imgs = []\n",
    "    for i in range(n):\n",
    "        imgs.append(S[i]*np.outer(U[:,i],V[i]))\n",
    "\n",
    "    combined_imgs = []\n",
    "    for i in range(n):\n",
    "        img = sum(imgs[:i+1])\n",
    "        combined_imgs.append(img)\n",
    "        print(np.round(img,2))\n",
    "        print(\"=====\")\n",
    "    \n",
    "    #print(imgs)\n",
    "    \n",
    "    print(combined_imgs)\n",
    "    \n",
    "    return U,S,V"
   ]
  },
  {
   "cell_type": "code",
   "execution_count": 15,
   "metadata": {},
   "outputs": [
    {
     "name": "stdout",
     "output_type": "stream",
     "text": [
      "[[2.51 2.37 2.22 1.97]\n",
      " [6.07 5.72 5.37 4.77]\n",
      " [5.63 5.31 4.99 4.43]\n",
      " [7.88 7.43 6.98 6.19]]\n",
      "=====\n",
      "[[3.15 1.41 3.79 0.56]\n",
      " [4.87 7.53 2.44 7.43]\n",
      " [5.28 5.85 4.12 5.22]\n",
      " [8.85 5.96 9.36 4.03]]\n",
      "=====\n",
      "[[3.1  0.96 3.93 0.99]\n",
      " [5.03 8.99 1.98 6.  ]\n",
      " [4.98 3.01 5.01 8.  ]\n",
      " [8.96 7.02 9.03 3.  ]]\n",
      "=====\n",
      "[[3. 1. 4. 1.]\n",
      " [5. 9. 2. 6.]\n",
      " [5. 3. 5. 8.]\n",
      " [9. 7. 9. 3.]]\n",
      "=====\n",
      "[array([[2.5129268 , 2.37029143, 2.22496161, 1.97491746],\n",
      "       [6.0691682 , 5.72467824, 5.37368069, 4.7697793 ],\n",
      "       [5.63425954, 5.31445527, 4.98860976, 4.42798315],\n",
      "       [7.87808152, 7.43091645, 6.97530422, 6.19141025]]), array([[3.15001871, 1.40791218, 3.78880714, 0.55746973],\n",
      "       [4.8743301 , 7.5295786 , 2.44075653, 7.42814078],\n",
      "       [5.27953502, 5.85029558, 4.11788081, 5.2171997 ],\n",
      "       [8.84904357, 5.96419913, 9.35868823, 4.03114429]]), array([[3.10337436, 0.96150448, 3.92917454, 0.99445918],\n",
      "       [5.02692418, 8.98997372, 1.98155328, 5.99855688],\n",
      "       [4.98239762, 3.00655494, 5.01206002, 8.00094348],\n",
      "       [8.95887283, 7.01531532, 9.02817769, 3.0022044 ]]), array([[3., 1., 4., 1.],\n",
      "       [5., 9., 2., 6.],\n",
      "       [5., 3., 5., 8.],\n",
      "       [9., 7., 9., 3.]])]\n"
     ]
    }
   ],
   "source": [
    "P = np.array([[3,1,4,1],[5,9,2,6],[5,3,5,8],[9,7,9,3]])\n",
    "U,S,V = plot_svd(P)"
   ]
  },
  {
   "cell_type": "code",
   "execution_count": null,
   "metadata": {},
   "outputs": [],
   "source": []
  }
 ],
 "metadata": {
  "kernelspec": {
   "display_name": "Python 3",
   "language": "python",
   "name": "python3"
  },
  "language_info": {
   "codemirror_mode": {
    "name": "ipython",
    "version": 3
   },
   "file_extension": ".py",
   "mimetype": "text/x-python",
   "name": "python",
   "nbconvert_exporter": "python",
   "pygments_lexer": "ipython3",
   "version": "3.7.6"
  }
 },
 "nbformat": 4,
 "nbformat_minor": 4
}
