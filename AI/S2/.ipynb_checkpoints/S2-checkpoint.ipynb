{
 "cells": [
  {
   "cell_type": "code",
   "execution_count": 1,
   "id": "ec22b948",
   "metadata": {},
   "outputs": [],
   "source": [
    "import numpy as np\n",
    "import pandas as pd\n",
    "from matplotlib import pyplot as plt"
   ]
  },
  {
   "cell_type": "code",
   "execution_count": 2,
   "id": "0949e6da",
   "metadata": {},
   "outputs": [
    {
     "data": {
      "text/plain": [
       "5.0"
      ]
     },
     "execution_count": 2,
     "metadata": {},
     "output_type": "execute_result"
    }
   ],
   "source": [
    "np.mean([ 0, 2, 4, 5, 5, 6, 8, 10])"
   ]
  },
  {
   "cell_type": "code",
   "execution_count": 4,
   "id": "1ca4183b",
   "metadata": {},
   "outputs": [
    {
     "name": "stdout",
     "output_type": "stream",
     "text": [
      "0.0\n",
      "0.6666666666666666\n",
      "0.0\n",
      "16.666666666666668\n"
     ]
    }
   ],
   "source": [
    "x = [-1, 0, 1]\n",
    "y = [-5, 0, 5]\n",
    "\n",
    "print(np.mean(x))\n",
    "print(np.var(x))\n",
    "\n",
    "print(np.mean(y))\n",
    "print(np.var(y))"
   ]
  },
  {
   "cell_type": "code",
   "execution_count": 5,
   "id": "ebec0a41",
   "metadata": {},
   "outputs": [],
   "source": [
    "np.var??"
   ]
  },
  {
   "cell_type": "code",
   "execution_count": 22,
   "id": "68facfa0",
   "metadata": {},
   "outputs": [
    {
     "data": {
      "text/plain": [
       "42990"
      ]
     },
     "execution_count": 22,
     "metadata": {},
     "output_type": "execute_result"
    }
   ],
   "source": [
    "x = np.array([65, 50, 55, 65, 55, 70, 65, 70])\n",
    "y = np.array([85, 74, 76, 90, 85, 87, 94, 98])\n",
    "\n",
    "n_xy = np.sum(x*y)\n",
    "n_xy"
   ]
  },
  {
   "cell_type": "code",
   "execution_count": 15,
   "id": "b0b05362",
   "metadata": {},
   "outputs": [],
   "source": [
    "n = 8"
   ]
  },
  {
   "cell_type": "code",
   "execution_count": 9,
   "id": "8b5affdb",
   "metadata": {},
   "outputs": [],
   "source": [
    "sum_x = np.sum(x)\n",
    "sum_y = np.sum(y)"
   ]
  },
  {
   "cell_type": "code",
   "execution_count": 10,
   "id": "bf4d8606",
   "metadata": {},
   "outputs": [],
   "source": [
    "sum_x_2 = np.sum(x**2)\n",
    "sum_x_whole_2 = np.sum(x) ** 2"
   ]
  },
  {
   "cell_type": "code",
   "execution_count": 12,
   "id": "d2ab4945",
   "metadata": {},
   "outputs": [
    {
     "data": {
      "text/plain": [
       "245025"
      ]
     },
     "execution_count": 12,
     "metadata": {},
     "output_type": "execute_result"
    }
   ],
   "source": [
    "sum_x_whole_2"
   ]
  },
  {
   "cell_type": "code",
   "execution_count": 16,
   "id": "76cb76e6",
   "metadata": {},
   "outputs": [
    {
     "data": {
      "text/plain": [
       "0.9023622047244094"
      ]
     },
     "execution_count": 16,
     "metadata": {},
     "output_type": "execute_result"
    }
   ],
   "source": [
    "m = ((n*n_xy) - (sum_x*sum_y))/((n*sum_x_2) - sum_x_whole_2)\n",
    "m"
   ]
  },
  {
   "cell_type": "code",
   "execution_count": 17,
   "id": "62b8446e",
   "metadata": {},
   "outputs": [
    {
     "data": {
      "text/plain": [
       "8.75"
      ]
     },
     "execution_count": 17,
     "metadata": {},
     "output_type": "execute_result"
    }
   ],
   "source": [
    "np.var([ 0, 2, 4, 5, 5, 6, 8, 10])"
   ]
  },
  {
   "cell_type": "code",
   "execution_count": 18,
   "id": "6574afa5",
   "metadata": {},
   "outputs": [
    {
     "data": {
      "text/plain": [
       "30.29133858267717"
      ]
     },
     "execution_count": 18,
     "metadata": {},
     "output_type": "execute_result"
    }
   ],
   "source": [
    "b = (np.sum(y)/n) - (m*(np.sum(x)/n))\n",
    "b"
   ]
  },
  {
   "cell_type": "code",
   "execution_count": 19,
   "id": "6632a804",
   "metadata": {},
   "outputs": [
    {
     "data": {
      "text/plain": [
       "495"
      ]
     },
     "execution_count": 19,
     "metadata": {},
     "output_type": "execute_result"
    }
   ],
   "source": [
    "np.sum(x)"
   ]
  },
  {
   "cell_type": "code",
   "execution_count": 33,
   "id": "f2aa1cf3",
   "metadata": {},
   "outputs": [
    {
     "data": {
      "text/plain": [
       "array([[ 4., 10.],\n",
       "       [10., 25.]])"
      ]
     },
     "execution_count": 33,
     "metadata": {},
     "output_type": "execute_result"
    }
   ],
   "source": [
    "x = np.array([2, 4, 6])\n",
    "y = np.array([5, 10, 15])\n",
    "\n",
    "np.cov((x, y))"
   ]
  },
  {
   "cell_type": "code",
   "execution_count": 34,
   "id": "c4744a24",
   "metadata": {},
   "outputs": [
    {
     "data": {
      "text/plain": [
       "140"
      ]
     },
     "execution_count": 34,
     "metadata": {},
     "output_type": "execute_result"
    }
   ],
   "source": [
    "np.sum(x*y)"
   ]
  },
  {
   "cell_type": "code",
   "execution_count": 35,
   "id": "32a40e5f",
   "metadata": {},
   "outputs": [
    {
     "data": {
      "text/plain": [
       "-220"
      ]
     },
     "execution_count": 35,
     "metadata": {},
     "output_type": "execute_result"
    }
   ],
   "source": [
    "(np.sum(x*y)) - (np.sum(x) * np.sum(y))"
   ]
  },
  {
   "cell_type": "code",
   "execution_count": 36,
   "id": "31ee0bd4",
   "metadata": {},
   "outputs": [
    {
     "data": {
      "text/plain": [
       "500"
      ]
     },
     "execution_count": 36,
     "metadata": {},
     "output_type": "execute_result"
    }
   ],
   "source": [
    "np.sum( (x - np.sum(x))*(y - np.sum(y)) )"
   ]
  },
  {
   "cell_type": "code",
   "execution_count": 37,
   "id": "827ee4ef",
   "metadata": {},
   "outputs": [
    {
     "data": {
      "text/plain": [
       "6.666666666666667"
      ]
     },
     "execution_count": 37,
     "metadata": {},
     "output_type": "execute_result"
    }
   ],
   "source": [
    "np.mean( (x - np.mean(x))*(y - np.mean(y)) )"
   ]
  },
  {
   "cell_type": "code",
   "execution_count": 41,
   "id": "3034651b",
   "metadata": {},
   "outputs": [
    {
     "data": {
      "text/plain": [
       "array([[1, 0, 0],\n",
       "       [0, 1, 0],\n",
       "       [0, 0, 1]])"
      ]
     },
     "execution_count": 41,
     "metadata": {},
     "output_type": "execute_result"
    }
   ],
   "source": [
    "a = np.array([[1,0,0],[0,1,0],[0,0,1]])\n",
    "a"
   ]
  },
  {
   "cell_type": "code",
   "execution_count": 43,
   "id": "24edde66",
   "metadata": {},
   "outputs": [
    {
     "data": {
      "text/plain": [
       "array([[1, 0, 0],\n",
       "       [0, 1, 0],\n",
       "       [0, 0, 1]])"
      ]
     },
     "execution_count": 43,
     "metadata": {},
     "output_type": "execute_result"
    }
   ],
   "source": [
    "a.transpose()"
   ]
  },
  {
   "cell_type": "code",
   "execution_count": 46,
   "id": "fad7bd1b",
   "metadata": {},
   "outputs": [
    {
     "data": {
      "text/plain": [
       "array([[1., 0., 0.],\n",
       "       [0., 1., 0.],\n",
       "       [0., 0., 1.]])"
      ]
     },
     "execution_count": 46,
     "metadata": {},
     "output_type": "execute_result"
    }
   ],
   "source": [
    "np.linalg.inv(a)"
   ]
  },
  {
   "cell_type": "code",
   "execution_count": null,
   "id": "106d22b7",
   "metadata": {},
   "outputs": [],
   "source": []
  }
 ],
 "metadata": {
  "kernelspec": {
   "display_name": "Python 3",
   "language": "python",
   "name": "python3"
  },
  "language_info": {
   "codemirror_mode": {
    "name": "ipython",
    "version": 3
   },
   "file_extension": ".py",
   "mimetype": "text/x-python",
   "name": "python",
   "nbconvert_exporter": "python",
   "pygments_lexer": "ipython3",
   "version": "3.8.8"
  }
 },
 "nbformat": 4,
 "nbformat_minor": 5
}
