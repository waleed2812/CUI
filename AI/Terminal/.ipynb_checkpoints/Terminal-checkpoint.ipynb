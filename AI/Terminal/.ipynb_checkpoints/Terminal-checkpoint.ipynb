{
 "cells": [
  {
   "cell_type": "markdown",
   "id": "67d08fd0",
   "metadata": {},
   "source": [
    "# CLO-1"
   ]
  },
  {
   "cell_type": "code",
   "execution_count": 2,
   "id": "fafdbd01",
   "metadata": {},
   "outputs": [],
   "source": [
    "import numpy as np"
   ]
  },
  {
   "cell_type": "markdown",
   "id": "49a88de2",
   "metadata": {},
   "source": [
    "## Question 3"
   ]
  },
  {
   "cell_type": "code",
   "execution_count": 3,
   "id": "c7bf8deb",
   "metadata": {},
   "outputs": [
    {
     "name": "stdout",
     "output_type": "stream",
     "text": [
      "int32\n"
     ]
    }
   ],
   "source": [
    "dt = dt = np.dtype('i4') \n",
    "print(dt)"
   ]
  },
  {
   "cell_type": "code",
   "execution_count": 4,
   "id": "9bf26224",
   "metadata": {},
   "outputs": [
    {
     "data": {
      "text/plain": [
       "array([  1,  23, 123,  12])"
      ]
     },
     "execution_count": 4,
     "metadata": {},
     "output_type": "execute_result"
    }
   ],
   "source": [
    "np.array([[1,23 ],[123, 12]]).reshape(-1)"
   ]
  },
  {
   "cell_type": "markdown",
   "id": "03bd788a",
   "metadata": {},
   "source": [
    "# CLO-2"
   ]
  },
  {
   "cell_type": "markdown",
   "id": "32f21f26",
   "metadata": {},
   "source": [
    "## Question 6"
   ]
  },
  {
   "cell_type": "code",
   "execution_count": 5,
   "id": "cd7fde9a",
   "metadata": {},
   "outputs": [
    {
     "data": {
      "text/plain": [
       "(2, 2)"
      ]
     },
     "execution_count": 5,
     "metadata": {},
     "output_type": "execute_result"
    }
   ],
   "source": [
    "A = np.array([[3, 0],[4, 5]])\n",
    "A.shape"
   ]
  },
  {
   "cell_type": "code",
   "execution_count": 6,
   "id": "535f6e38",
   "metadata": {},
   "outputs": [
    {
     "data": {
      "text/plain": [
       "array([3, 4])"
      ]
     },
     "execution_count": 6,
     "metadata": {},
     "output_type": "execute_result"
    }
   ],
   "source": [
    "A.dot(np.array([1, 0]))"
   ]
  },
  {
   "cell_type": "markdown",
   "id": "b30abdf2",
   "metadata": {},
   "source": [
    "# CLO-4\n",
    "\n",
    "![CLO-4](./CLO-4/CLO-4.jpeg)\n",
    "\n",
    "## Length (Num of Items)"
   ]
  },
  {
   "cell_type": "code",
   "execution_count": 7,
   "id": "98cc0c82",
   "metadata": {},
   "outputs": [
    {
     "data": {
      "text/plain": [
       "5"
      ]
     },
     "execution_count": 7,
     "metadata": {},
     "output_type": "execute_result"
    }
   ],
   "source": [
    "X = np.array([40, 20, 25, 20, 30])\n",
    "Y = np.array([385, 400, 395, 365, 475])\n",
    "len(X)"
   ]
  },
  {
   "cell_type": "markdown",
   "id": "813cbb8c",
   "metadata": {},
   "source": [
    "## X and Y Mean"
   ]
  },
  {
   "cell_type": "code",
   "execution_count": 8,
   "id": "0f839646",
   "metadata": {},
   "outputs": [
    {
     "name": "stdout",
     "output_type": "stream",
     "text": [
      "27.0\n",
      "404.0\n"
     ]
    }
   ],
   "source": [
    "Xmean = np.mean(X)\n",
    "Ymean = np.mean(Y)\n",
    "\n",
    "print(Xmean)\n",
    "print(Ymean)"
   ]
  },
  {
   "cell_type": "markdown",
   "id": "d48a48b6",
   "metadata": {},
   "source": [
    "## Numenator for M"
   ]
  },
  {
   "cell_type": "code",
   "execution_count": 34,
   "id": "90c5d485",
   "metadata": {},
   "outputs": [
    {
     "data": {
      "text/plain": [
       "285.0"
      ]
     },
     "execution_count": 34,
     "metadata": {},
     "output_type": "execute_result"
    }
   ],
   "source": [
    "numerator = np.sum( (X - Xmean) * (Y - Ymean) )\n",
    "numerator"
   ]
  },
  {
   "cell_type": "markdown",
   "id": "d0590466",
   "metadata": {},
   "source": [
    "## Denomenator for M"
   ]
  },
  {
   "cell_type": "code",
   "execution_count": 35,
   "id": "85d3de68",
   "metadata": {},
   "outputs": [
    {
     "data": {
      "text/plain": [
       "280.0"
      ]
     },
     "execution_count": 35,
     "metadata": {},
     "output_type": "execute_result"
    }
   ],
   "source": [
    "denomenator = np.sum( (X - Xmean) ** 2 )\n",
    "denomenator"
   ]
  },
  {
   "cell_type": "markdown",
   "id": "6a066124",
   "metadata": {},
   "source": [
    "## M"
   ]
  },
  {
   "cell_type": "code",
   "execution_count": 36,
   "id": "5ffa2d5d",
   "metadata": {},
   "outputs": [
    {
     "data": {
      "text/plain": [
       "1.0178571428571428"
      ]
     },
     "execution_count": 36,
     "metadata": {},
     "output_type": "execute_result"
    }
   ],
   "source": [
    "m  = numerator/denomenator\n",
    "m"
   ]
  },
  {
   "cell_type": "markdown",
   "id": "bdc7707d",
   "metadata": {},
   "source": [
    "## B"
   ]
  },
  {
   "cell_type": "code",
   "execution_count": 37,
   "id": "2a23d7fc",
   "metadata": {},
   "outputs": [
    {
     "data": {
      "text/plain": [
       "376.51785714285717"
      ]
     },
     "execution_count": 37,
     "metadata": {},
     "output_type": "execute_result"
    }
   ],
   "source": [
    "b = Ymean - (m*Xmean)\n",
    "b"
   ]
  },
  {
   "cell_type": "markdown",
   "id": "3a400d11",
   "metadata": {},
   "source": [
    "## ∑(X-Xmean)"
   ]
  },
  {
   "cell_type": "code",
   "execution_count": 38,
   "id": "08ad1d0a",
   "metadata": {},
   "outputs": [
    {
     "data": {
      "text/plain": [
       "0.0"
      ]
     },
     "execution_count": 38,
     "metadata": {},
     "output_type": "execute_result"
    }
   ],
   "source": [
    "np.sum(X-Xmean)"
   ]
  },
  {
   "cell_type": "markdown",
   "id": "74401698",
   "metadata": {},
   "source": [
    "## Y = mx + b"
   ]
  },
  {
   "cell_type": "code",
   "execution_count": 39,
   "id": "e80538dc",
   "metadata": {},
   "outputs": [
    {
     "data": {
      "text/plain": [
       "412.14"
      ]
     },
     "execution_count": 39,
     "metadata": {},
     "output_type": "execute_result"
    }
   ],
   "source": [
    "round(round(m, 5)*35 + b, 2)"
   ]
  },
  {
   "cell_type": "markdown",
   "id": "29a07104",
   "metadata": {},
   "source": [
    "## If input is 40 and out is 385, what is result of our function"
   ]
  },
  {
   "cell_type": "code",
   "execution_count": 48,
   "id": "7bd969b9",
   "metadata": {},
   "outputs": [
    {
     "data": {
      "text/plain": [
       "416.71"
      ]
     },
     "execution_count": 48,
     "metadata": {},
     "output_type": "execute_result"
    }
   ],
   "source": [
    "from math import trunc\n",
    "calculated = 385\n",
    "ourVal = round(round(m, 5)*40 + trunc(b), 2)\n",
    "ourVal"
   ]
  },
  {
   "cell_type": "markdown",
   "id": "6d44071a",
   "metadata": {},
   "source": [
    "## Error"
   ]
  },
  {
   "cell_type": "code",
   "execution_count": 47,
   "id": "022b6253",
   "metadata": {},
   "outputs": [
    {
     "data": {
      "text/plain": [
       "31.71"
      ]
     },
     "execution_count": 47,
     "metadata": {},
     "output_type": "execute_result"
    }
   ],
   "source": [
    "round(ourVal - calculated, 2)"
   ]
  },
  {
   "cell_type": "markdown",
   "id": "0eb9fd81",
   "metadata": {},
   "source": [
    "# CLO-5\n",
    "\n",
    "## Question 1\n",
    "\n",
    "![CLO-5-Q1](./CLO-5/CLO-5-Q1.jpeg)\n",
    "\n",
    "## Data"
   ]
  },
  {
   "cell_type": "code",
   "execution_count": 98,
   "id": "02e91db5",
   "metadata": {},
   "outputs": [],
   "source": [
    "Wac = 0.1\n",
    "Wbc = 0.8\n",
    "Wad = 0.4\n",
    "Wbd = 0.6\n",
    "Wce = 0.3\n",
    "Wde = 0.9\n",
    "A = 0.35\n",
    "B = 0.9"
   ]
  },
  {
   "cell_type": "markdown",
   "id": "4e5dc4bd",
   "metadata": {},
   "source": [
    "## Input of Node C and D"
   ]
  },
  {
   "cell_type": "code",
   "execution_count": 99,
   "id": "51fe2c19",
   "metadata": {},
   "outputs": [
    {
     "data": {
      "text/plain": [
       "array([0.755, 0.68 ])"
      ]
     },
     "execution_count": 99,
     "metadata": {},
     "output_type": "execute_result"
    }
   ],
   "source": [
    "x = np.array([A, B])\n",
    "w = np.array([[Wac, Wad], [Wbc, Wbd]])\n",
    "\n",
    "h = x.dot(w)\n",
    "h"
   ]
  },
  {
   "cell_type": "code",
   "execution_count": 100,
   "id": "b8a2cedb",
   "metadata": {},
   "outputs": [],
   "source": [
    "# activation function\n",
    "def sigmoid(x):\n",
    "    return(1/(1 + np.exp(-x)))"
   ]
  },
  {
   "cell_type": "markdown",
   "id": "9600707f",
   "metadata": {},
   "source": [
    "## Output of Node C and D"
   ]
  },
  {
   "cell_type": "code",
   "execution_count": 101,
   "id": "2a45e2b6",
   "metadata": {},
   "outputs": [
    {
     "data": {
      "text/plain": [
       "array([0.6802672, 0.6637387])"
      ]
     },
     "execution_count": 101,
     "metadata": {},
     "output_type": "execute_result"
    }
   ],
   "source": [
    "h = sigmoid(h)\n",
    "h"
   ]
  },
  {
   "cell_type": "markdown",
   "id": "cb549262",
   "metadata": {},
   "source": [
    "## Input then Output of Node E"
   ]
  },
  {
   "cell_type": "code",
   "execution_count": 103,
   "id": "cb7f8f7f",
   "metadata": {},
   "outputs": [
    {
     "name": "stdout",
     "output_type": "stream",
     "text": [
      "[0.80144499]\n"
     ]
    },
    {
     "data": {
      "text/plain": [
       "array([0.69028349])"
      ]
     },
     "execution_count": 103,
     "metadata": {},
     "output_type": "execute_result"
    }
   ],
   "source": [
    "w2 = np.array([[Wce, Wde]])\n",
    "e = w2.dot(h)\n",
    "print(e)\n",
    "e = sigmoid(e)\n",
    "e"
   ]
  },
  {
   "cell_type": "markdown",
   "id": "7417ab0b",
   "metadata": {},
   "source": [
    "## Question 3\n",
    "\n",
    "![CLO-5-Q3](./CLO-5/CLO-5-Q3.jpeg)\n",
    "\n",
    "### Feature Map"
   ]
  },
  {
   "cell_type": "code",
   "execution_count": 104,
   "id": "b7be1334",
   "metadata": {},
   "outputs": [
    {
     "data": {
      "text/plain": [
       "(5, 5)"
      ]
     },
     "execution_count": 104,
     "metadata": {},
     "output_type": "execute_result"
    }
   ],
   "source": [
    "Image = np.array([\n",
    "    [1, 1, 1, 0, 0],\n",
    "    [0, 1, 1, 1, 0],\n",
    "    [0, 0, 1, 1, 1],\n",
    "    [0, 0, 1, 1, 0],\n",
    "    [0, 1, 1, 1, 0],\n",
    "])\n",
    "Image.shape"
   ]
  },
  {
   "cell_type": "code",
   "execution_count": 105,
   "id": "63fe373b",
   "metadata": {},
   "outputs": [
    {
     "data": {
      "text/plain": [
       "(3, 3)"
      ]
     },
     "execution_count": 105,
     "metadata": {},
     "output_type": "execute_result"
    }
   ],
   "source": [
    "Filter = np.array([\n",
    "    [1, 0, 1],\n",
    "    [0, 1, 0],\n",
    "    [1, 0, 1],\n",
    "])\n",
    "Filter.shape"
   ]
  },
  {
   "cell_type": "code",
   "execution_count": null,
   "id": "38d4c5a0",
   "metadata": {},
   "outputs": [],
   "source": [
    "Image."
   ]
  }
 ],
 "metadata": {
  "kernelspec": {
   "display_name": "Python 3",
   "language": "python",
   "name": "python3"
  },
  "language_info": {
   "codemirror_mode": {
    "name": "ipython",
    "version": 3
   },
   "file_extension": ".py",
   "mimetype": "text/x-python",
   "name": "python",
   "nbconvert_exporter": "python",
   "pygments_lexer": "ipython3",
   "version": "3.8.8"
  }
 },
 "nbformat": 4,
 "nbformat_minor": 5
}
