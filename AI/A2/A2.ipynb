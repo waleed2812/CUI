{
 "cells": [
  {
   "cell_type": "markdown",
   "id": "joined-undergraduate",
   "metadata": {},
   "source": [
    "<h1 style='text-align: center'> COMSATS University, Islamabad </h1>\n",
    "<h1 style='text-align: center'> Department of Computer Science </h1>\n",
    "<h1 style='text-align: center'> CSC483 - Topics in Computer Science II (Programming for Artificial Intelligence) </h1>\n",
    "<h2 style='text-align: center'> Assignment 02 </h2>\n",
    "<h2 style='text-align: center'> Submitted by: Waleed Butt SP18-BCS-170 </h2>\n",
    "\n",
    "### Question CLO-3\n",
    "* Visit [MadhumithaKannan - linear-regression-using-only-numpy](https://github.com/MadhumithaKannan/linear-regression-using-only-numpy) and familiarize yourself with the data available in lin_reg_data.csv and the code of different regression schemes.  \n",
    "* Randomly divide 50% data as your training set and the remaining 50% as your test set.  \n",
    "* Using training set, your goal is to find the parameters of line using linear regression, ridge regression and lasso regression respectively. Plot all three lines overlaid with original training and test data in a single figure and use legends to label the three lines in the figure. Show training and test sets in two different colors in that figure.  \n",
    "* In order to see how the three lines fit the training and test set, calculate the sum of square residuals of the three lines with the training and test set respectively and display the 6 values in a tabulated form.\n",
    "\n",
    "### Submission Procedure:  \n",
    "* Please submit the binder or colab link to your respective CRs\n",
    "\n",
    "### Submission  \n",
    "\n",
    "[![Binder](https://mybinder.org/badge_logo.svg)](https://mybinder.org/v2/gh/waleedbutt98/A2_CS2AI.git/HEAD)\n",
    "\n",
    "[![Colab](https://colab.research.google.com/assets/colab-badge.svg)](https://colab.research.google.com/github/waleedbutt98/A2_CS2AI/blob/master/A2.ipynb)"
   ]
  },
  {
   "cell_type": "markdown",
   "id": "infinite-serbia",
   "metadata": {},
   "source": [
    "### Solution"
   ]
  },
  {
   "cell_type": "code",
   "execution_count": 1,
   "id": "grand-anger",
   "metadata": {},
   "outputs": [],
   "source": [
    "import numpy as np\n",
    "import pandas as pd\n",
    "from matplotlib import pyplot as plt"
   ]
  },
  {
   "cell_type": "markdown",
   "id": "c3566799",
   "metadata": {},
   "source": [
    "### Reading Data"
   ]
  },
  {
   "cell_type": "code",
   "execution_count": 2,
   "id": "45a3f0e8",
   "metadata": {},
   "outputs": [
    {
     "data": {
      "text/html": [
       "<div>\n",
       "<style scoped>\n",
       "    .dataframe tbody tr th:only-of-type {\n",
       "        vertical-align: middle;\n",
       "    }\n",
       "\n",
       "    .dataframe tbody tr th {\n",
       "        vertical-align: top;\n",
       "    }\n",
       "\n",
       "    .dataframe thead th {\n",
       "        text-align: right;\n",
       "    }\n",
       "</style>\n",
       "<table border=\"1\" class=\"dataframe\">\n",
       "  <thead>\n",
       "    <tr style=\"text-align: right;\">\n",
       "      <th></th>\n",
       "      <th>0</th>\n",
       "      <th>1</th>\n",
       "    </tr>\n",
       "  </thead>\n",
       "  <tbody>\n",
       "    <tr>\n",
       "      <th>0</th>\n",
       "      <td>32.502345</td>\n",
       "      <td>31.707006</td>\n",
       "    </tr>\n",
       "    <tr>\n",
       "      <th>1</th>\n",
       "      <td>53.426804</td>\n",
       "      <td>68.777596</td>\n",
       "    </tr>\n",
       "    <tr>\n",
       "      <th>2</th>\n",
       "      <td>61.530358</td>\n",
       "      <td>62.562382</td>\n",
       "    </tr>\n",
       "    <tr>\n",
       "      <th>3</th>\n",
       "      <td>47.475640</td>\n",
       "      <td>71.546632</td>\n",
       "    </tr>\n",
       "    <tr>\n",
       "      <th>4</th>\n",
       "      <td>59.813208</td>\n",
       "      <td>87.230925</td>\n",
       "    </tr>\n",
       "    <tr>\n",
       "      <th>...</th>\n",
       "      <td>...</td>\n",
       "      <td>...</td>\n",
       "    </tr>\n",
       "    <tr>\n",
       "      <th>95</th>\n",
       "      <td>50.030174</td>\n",
       "      <td>81.536991</td>\n",
       "    </tr>\n",
       "    <tr>\n",
       "      <th>96</th>\n",
       "      <td>49.239765</td>\n",
       "      <td>72.111832</td>\n",
       "    </tr>\n",
       "    <tr>\n",
       "      <th>97</th>\n",
       "      <td>50.039576</td>\n",
       "      <td>85.232007</td>\n",
       "    </tr>\n",
       "    <tr>\n",
       "      <th>98</th>\n",
       "      <td>48.149859</td>\n",
       "      <td>66.224958</td>\n",
       "    </tr>\n",
       "    <tr>\n",
       "      <th>99</th>\n",
       "      <td>25.128485</td>\n",
       "      <td>53.454394</td>\n",
       "    </tr>\n",
       "  </tbody>\n",
       "</table>\n",
       "<p>100 rows × 2 columns</p>\n",
       "</div>"
      ],
      "text/plain": [
       "            0          1\n",
       "0   32.502345  31.707006\n",
       "1   53.426804  68.777596\n",
       "2   61.530358  62.562382\n",
       "3   47.475640  71.546632\n",
       "4   59.813208  87.230925\n",
       "..        ...        ...\n",
       "95  50.030174  81.536991\n",
       "96  49.239765  72.111832\n",
       "97  50.039576  85.232007\n",
       "98  48.149859  66.224958\n",
       "99  25.128485  53.454394\n",
       "\n",
       "[100 rows x 2 columns]"
      ]
     },
     "execution_count": 2,
     "metadata": {},
     "output_type": "execute_result"
    }
   ],
   "source": [
    "df = pd.read_csv('lin_reg_data.csv', header=None)\n",
    "df"
   ]
  },
  {
   "cell_type": "code",
   "execution_count": 3,
   "id": "5fb1356f",
   "metadata": {
    "scrolled": true
   },
   "outputs": [
    {
     "name": "stdout",
     "output_type": "stream",
     "text": [
      "100 100\n"
     ]
    }
   ],
   "source": [
    "x = np.array(df.iloc[:, 0])\n",
    "y = np.array(df.iloc[:, 1])\n",
    "print(len(x), len(y))"
   ]
  },
  {
   "cell_type": "markdown",
   "id": "b8dd47f6",
   "metadata": {},
   "source": [
    "### Divding Data into Train and Test"
   ]
  },
  {
   "cell_type": "code",
   "execution_count": 4,
   "id": "6f914119",
   "metadata": {},
   "outputs": [],
   "source": [
    "x_train = x[:int(len(x)/2)]\n",
    "y_train = y[:int(len(y)/2)]\n",
    "x_test = x[int(len(x)/2):]\n",
    "y_test = y[int(len(y)/2):]"
   ]
  },
  {
   "cell_type": "markdown",
   "id": "b414c396",
   "metadata": {},
   "source": [
    "### Simple Linear Regression"
   ]
  },
  {
   "cell_type": "code",
   "execution_count": 5,
   "id": "ccda3540",
   "metadata": {},
   "outputs": [
    {
     "name": "stdout",
     "output_type": "stream",
     "text": [
      "Estimated coefficients: b_0 = -4.120124382827271, b_1 = 1.5261138283971487\n"
     ]
    }
   ],
   "source": [
    "# number of observations/points\n",
    "n = np.size(x_train)\n",
    "\n",
    "# mean of x and y vector\n",
    "m_x = np.mean(x_train)\n",
    "m_y = np.mean(y_train)\n",
    "\n",
    "# calculating cross-deviation and deviation about x\n",
    "SS_xy = np.sum(y_train*x_train) - n*m_y*m_x\n",
    "SS_xx = np.sum(x_train*x_train) - n*m_x*m_x\n",
    "\n",
    "# calculating regression coefficients\n",
    "b_1_simple = SS_xy / SS_xx\n",
    "b_0_simple = m_y - b_1_simple*m_x\n",
    "\n",
    "print('Estimated coefficients: b_0 = {}, b_1 = {}'.format(b_0_simple, b_1_simple))\n",
    "y_pred_simple = b_0_simple + b_1_simple*x_train"
   ]
  },
  {
   "cell_type": "markdown",
   "id": "5ebe1794",
   "metadata": {},
   "source": [
    "### Ridge Regression"
   ]
  },
  {
   "cell_type": "code",
   "execution_count": 6,
   "id": "f52c9ecb",
   "metadata": {},
   "outputs": [],
   "source": [
    "learning_rate = 0.005 #learning rate\n",
    "l2_penality = 0.001 #regularization parameter\n",
    "\n",
    "# no_of_training_examples, no_of_features\n",
    "n_ridge = len(x_train)\n",
    "\n",
    "# weight initialization        \n",
    "W_ridge = np.zeros( n_ridge )\n",
    "\n",
    "b_ridge = 0\n",
    "\n",
    "y_pred_ridge = 0\n",
    "\n",
    "for i in range(100):\n",
    "    \n",
    "    y_pred_ridge = x_train * (W_ridge) + b_ridge\n",
    "    \n",
    "    dW = (-2/n_ridge)*(x_train*(y_train-y_pred_ridge))+2*l2_penality*W_ridge      \n",
    "        \n",
    "    db = (-2/n_ridge)*(y_train-y_pred_ridge)\n",
    "\n",
    "    # update weights\n",
    "    W_ridge = W_ridge - (learning_rate * dW)    \n",
    "    b_ridge = b_ridge - (learning_rate * db)"
   ]
  },
  {
   "cell_type": "markdown",
   "id": "8ea9bfdd",
   "metadata": {},
   "source": [
    "### Lasso Regression"
   ]
  },
  {
   "cell_type": "code",
   "execution_count": 7,
   "id": "e9b6fdf7",
   "metadata": {},
   "outputs": [],
   "source": [
    "learning_rate = 0.01\n",
    "l2_penality = 500\n",
    "\n",
    "# no_of_training_examples, no_of_features        \n",
    "m_lasso = 1\n",
    "n_lasso = len(x_train)\n",
    "\n",
    "# weight initialization        \n",
    "W_lasso = np.zeros( n_lasso )\n",
    "\n",
    "b_lasso = 0\n",
    "\n",
    "y_pred_lasso = 0\n",
    "\n",
    "for i in range(1000):\n",
    "    \n",
    "    y_pred_lasso=np.zeros((y_train.shape))\n",
    "    \n",
    "    for j in range(len(x_train)):\n",
    "        \n",
    "        y_pred_lasso[j] = x_train[j] * ( W_lasso[j] ) + b_lasso\n",
    "    \n",
    "        # calculate gradients\n",
    "        if W_lasso[j] > 0:\n",
    "            dW = (-2/n_lasso)*(x_train[j]*(y_train[j]-y_pred_lasso[j]))-learning_rate      \n",
    "        else:\n",
    "            dW = (-2/n_lasso)*(x_train[j]*(y_train[j]-y_pred_lasso[j]))+learning_rate\n",
    "        \n",
    "        db = (-2/n_lasso)*(x_train[j]*(y_train[j]-y_pred_lasso[j]))+learning_rate\n",
    "          \n",
    "        # update weights\n",
    "        W_lasso = W_lasso - (learning_rate * dW)    \n",
    "        b_lasso = b_lasso - (learning_rate * db)"
   ]
  },
  {
   "cell_type": "markdown",
   "id": "0486417b",
   "metadata": {},
   "source": [
    "### Plotting"
   ]
  },
  {
   "cell_type": "code",
   "execution_count": 8,
   "id": "0df83c9d",
   "metadata": {},
   "outputs": [
    {
     "data": {
      "image/png": "[encoded data removed]",
      "text/plain": [
       "<Figure size 640x480 with 1 Axes>"
      ]
     },
     "metadata": {
      "needs_background": "light"
     },
     "output_type": "display_data"
    }
   ],
   "source": [
    "plt.figure(figsize=(8, 6), dpi=80)\n",
    "\n",
    "# plotting the actual points as scatter plot\n",
    "plt.scatter(x_train, y_train, color = \"yellow\", marker = \"o\", s = 30, label=\"Train Data\")\n",
    "plt.scatter(x_test, y_test, color = \"pink\", marker = \"o\", s = 30, label=\"Test Data\")\n",
    "\n",
    "# predicted response vector for Linear Regression\n",
    "y_pred_simple_final = b_0_simple + b_1_simple*x_test\n",
    "# plotting the Linear regression line\n",
    "plt.plot(x_test, y_pred_simple_final, color = \"g\", label='Simple Linear Regression')\n",
    "\n",
    "# predicted response vector for Ridge Regression\n",
    "y_pred_ridge_final = x_test * (W_ridge) + b_ridge\n",
    "# Plotting the Ridge regression line\n",
    "plt.plot([min(x_test), max(x_test)],\n",
    "         [min(y_pred_ridge_final), max(y_pred_ridge_final)],\n",
    "         color = \"b\", label='Ridge Linear Regression')\n",
    "\n",
    "# predicted response vector for Lasso Regression\n",
    "y_pred_lasso_final = x_test * (W_lasso) + b_lasso\n",
    "# Plotting the Lasso regression line\n",
    "plt.plot(x_test, y_pred_lasso_final, color = \"r\", label='Lasso Linear Regression')\n",
    "\n",
    "# putting labels\n",
    "plt.title('Differnet Regression Comparison')\n",
    "plt.xlabel('x')\n",
    "plt.ylabel('y')\n",
    "\n",
    "# function to show plot\n",
    "plt.legend()\n",
    "plt.show()"
   ]
  },
  {
   "cell_type": "markdown",
   "id": "8d66f3a6",
   "metadata": {},
   "source": [
    "### Mean Squared Errors"
   ]
  },
  {
   "cell_type": "code",
   "execution_count": 9,
   "id": "1b698dae",
   "metadata": {},
   "outputs": [
    {
     "data": {
      "text/html": [
       "<div>\n",
       "<style scoped>\n",
       "    .dataframe tbody tr th:only-of-type {\n",
       "        vertical-align: middle;\n",
       "    }\n",
       "\n",
       "    .dataframe tbody tr th {\n",
       "        vertical-align: top;\n",
       "    }\n",
       "\n",
       "    .dataframe thead th {\n",
       "        text-align: right;\n",
       "    }\n",
       "</style>\n",
       "<table border=\"1\" class=\"dataframe\">\n",
       "  <thead>\n",
       "    <tr style=\"text-align: right;\">\n",
       "      <th></th>\n",
       "      <th>Train</th>\n",
       "      <th>Test</th>\n",
       "    </tr>\n",
       "  </thead>\n",
       "  <tbody>\n",
       "    <tr>\n",
       "      <th>Simple</th>\n",
       "      <td>110.965276</td>\n",
       "      <td>126.504594</td>\n",
       "    </tr>\n",
       "    <tr>\n",
       "      <th>Ridge</th>\n",
       "      <td>0.000002</td>\n",
       "      <td>234.306898</td>\n",
       "    </tr>\n",
       "    <tr>\n",
       "      <th>Lasso</th>\n",
       "      <td>299.510836</td>\n",
       "      <td>301.371471</td>\n",
       "    </tr>\n",
       "  </tbody>\n",
       "</table>\n",
       "</div>"
      ],
      "text/plain": [
       "             Train        Test\n",
       "Simple  110.965276  126.504594\n",
       "Ridge     0.000002  234.306898\n",
       "Lasso   299.510836  301.371471"
      ]
     },
     "execution_count": 9,
     "metadata": {},
     "output_type": "execute_result"
    }
   ],
   "source": [
    "def MSE(Y, Y_pred):\n",
    "    return np.sum(np.square(Y - Y_pred))/len(Y)\n",
    "\n",
    "data = [\n",
    "    [MSE(y_train, y_pred_simple), MSE(y_test, y_pred_simple_final)],\n",
    "    [MSE(y_train, y_pred_ridge), MSE(y_test, y_pred_ridge_final)],\n",
    "    [MSE(y_train, y_pred_lasso), MSE(y_test, y_pred_lasso_final)]\n",
    "]\n",
    "\n",
    "mse = pd.DataFrame(data=data, columns=['Train', 'Test'], index=['Simple', 'Ridge', 'Lasso'])\n",
    "mse"
   ]
  }
 ],
 "metadata": {
  "kernelspec": {
   "display_name": "Python 3",
   "language": "python",
   "name": "python3"
  },
  "language_info": {
   "codemirror_mode": {
    "name": "ipython",
    "version": 3
   },
   "file_extension": ".py",
   "mimetype": "text/x-python",
   "name": "python",
   "nbconvert_exporter": "python",
   "pygments_lexer": "ipython3",
   "version": "3.8.8"
  }
 },
 "nbformat": 4,
 "nbformat_minor": 5
}
